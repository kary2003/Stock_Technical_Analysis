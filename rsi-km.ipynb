{
 "cells": [
  {
   "cell_type": "code",
   "execution_count": 17,
   "metadata": {},
   "outputs": [],
   "source": [
    "import pandas_datareader as pdr\n",
    "import datetime as dt\n",
    "import matplotlib.pyplot as plt\n",
    "import yfinance as yf, pandas as pd, shutil, os, time, glob\n",
    "from get_all_tickers import get_tickers as gt\n",
    "from pathlib import Path"
   ]
  },
  {
   "cell_type": "code",
   "execution_count": 4,
   "metadata": {},
   "outputs": [
    {
     "name": "stdout",
     "output_type": "stream",
     "text": [
      "The amount of stocks chosen to observe: 59\n"
     ]
    }
   ],
   "source": [
    "# If you have a list of your own you would like to use just create a new list instead of using this, for example: tickers = [\"FB\", \"AMZN\", ...] \n",
    "tickers = gt.get_tickers_filtered(mktcap_min=150000, mktcap_max=3000000)\n",
    "# Check that the amount of tickers isn't more than 2000\n",
    "print(\"The amount of stocks chosen to observe: \" + str(len(tickers)))"
   ]
  },
  {
   "cell_type": "code",
   "execution_count": 5,
   "metadata": {},
   "outputs": [],
   "source": [
    "# These two lines remove the Stocks folder and then recreate it in order to remove old stocks. Make sure you have created a Stocks Folder the first time you run this.\n",
    "shutil.rmtree(\"SMA_Analysis/Stocks/\")\n",
    "os.mkdir(\"SMA_Analysis/Stocks/\")"
   ]
  },
  {
   "cell_type": "code",
   "execution_count": 6,
   "metadata": {},
   "outputs": [
    {
     "name": "stdout",
     "output_type": "stream",
     "text": [
      "Iteration = 0\n",
      "Iteration = 1\n",
      "Iteration = 2\n",
      "Iteration = 3\n",
      "Iteration = 4\n",
      "Iteration = 5\n",
      "Iteration = 6\n",
      "Iteration = 7\n",
      "Iteration = 8\n",
      "Iteration = 9\n",
      "The amount of stocks we successfully imported: 10\n"
     ]
    }
   ],
   "source": [
    "# Holds the amount of API calls we executed\n",
    "Amount_of_API_Calls = 0\n",
    "# This while loop is reponsible for storing the historical data for each ticker in our list. Note that yahoo finance sometimes incurs json.decode errors and because of this we are sleeping for 2\n",
    "# seconds after each iteration, also if a call fails we are going to try to execute it again.\n",
    "# Also, do not make more than 2,000 calls per hour or 48,000 calls per day or Yahoo Finance may block your IP. The clause \"(Amount_of_API_Calls < 1800)\" below will stop the loop from making\n",
    "# too many calls to the yfinance API.\n",
    "# Prepare for this loop to take some time. It is pausing for 2 seconds after importing each stock.\n",
    "\n",
    "# Used to make sure we don't waste too many API calls on one Stock ticker that could be having issues\n",
    "Stock_Failure = 0\n",
    "Stocks_Not_Imported = 0\n",
    "\n",
    "# Used to iterate through our list of tickers\n",
    "i=0\n",
    "while (i < len(tickers)) and (Amount_of_API_Calls < 10):\n",
    "    try:\n",
    "        print(\"Iteration = \" + str(i))\n",
    "        stock = tickers[i]  # Gets the current stock ticker\n",
    "        temp = yf.Ticker(str(stock))\n",
    "        Hist_data = temp.history(period=\"5y\")  # Tells yfinance what kind of data we want about this stock (In this example, all of the historical data)\n",
    "        Hist_data.to_csv(\"SMA_Analysis/Stocks/\"+stock+\".csv\")  # Saves the historical data in csv format for further processing later\n",
    "        time.sleep(2)  # Pauses the loop for two seconds so we don't cause issues with Yahoo Finance's backend operations\n",
    "        Amount_of_API_Calls += 1 \n",
    "        Stock_Failure = 0\n",
    "        i += 1  # Iteration to the next ticker\n",
    "    except ValueError:\n",
    "        print(\"Yahoo Finance Backend Error, Attempting to Fix\")  # An error occured on Yahoo Finance's backend. We will attempt to retreive the data again\n",
    "        if Stock_Failure > 5:  # Move on to the next ticker if the current ticker fails more than 5 times\n",
    "            i+=1\n",
    "            Stocks_Not_Imported += 1\n",
    "        Amount_of_API_Calls += 1\n",
    "        Stock_Failure += 1\n",
    "    # Handle SSL error\n",
    "    except requests.exceptions.SSLError as e:\n",
    "        print(\"Yahoo Finance Backend Error, Attempting to Fix SSL\")  # An error occured on Yahoo Finance's backend. We will attempt to retreive the data again\n",
    "        if Stock_Failure > 5:  # Move on to the next ticker if the current ticker fails more than 5 times\n",
    "            i+=1\n",
    "            Stocks_Not_Imported += 1\n",
    "        Amount_of_API_Calls += 1\n",
    "        Stock_Failure += 1\n",
    "print(\"The amount of stocks we successfully imported: \" + str(i - Stocks_Not_Imported))"
   ]
  },
  {
   "cell_type": "code",
   "execution_count": 15,
   "metadata": {},
   "outputs": [
    {
     "ename": "TypeError",
     "evalue": "'generator' object is not subscriptable",
     "output_type": "error",
     "traceback": [
      "\u001b[1;31m---------------------------------------------------------------------------\u001b[0m",
      "\u001b[1;31mTypeError\u001b[0m                                 Traceback (most recent call last)",
      "\u001b[1;32m<ipython-input-15-af3c0f5a14be>\u001b[0m in \u001b[0;36m<module>\u001b[1;34m\u001b[0m\n\u001b[0;32m      2\u001b[0m \u001b[1;33m\u001b[0m\u001b[0m\n\u001b[0;32m      3\u001b[0m \u001b[1;32mfor\u001b[0m \u001b[0mitem\u001b[0m \u001b[1;32min\u001b[0m \u001b[0mlist_files\u001b[0m\u001b[1;33m:\u001b[0m\u001b[1;33m\u001b[0m\u001b[1;33m\u001b[0m\u001b[0m\n\u001b[1;32m----> 4\u001b[1;33m     \u001b[0mticker\u001b[0m \u001b[1;33m=\u001b[0m \u001b[0mlist_files\u001b[0m\u001b[1;33m[\u001b[0m\u001b[1;34m\"Close\"\u001b[0m\u001b[1;33m]\u001b[0m\u001b[1;33m\u001b[0m\u001b[1;33m\u001b[0m\u001b[0m\n\u001b[0m\u001b[0;32m      5\u001b[0m     \u001b[0mdelta\u001b[0m \u001b[1;33m=\u001b[0m \u001b[0mticker\u001b[0m\u001b[1;33m[\u001b[0m\u001b[1;34m'Close'\u001b[0m\u001b[1;33m]\u001b[0m\u001b[1;33m.\u001b[0m\u001b[0mdiff\u001b[0m\u001b[1;33m(\u001b[0m\u001b[1;33m)\u001b[0m\u001b[1;33m\u001b[0m\u001b[1;33m\u001b[0m\u001b[0m\n\u001b[0;32m      6\u001b[0m     \u001b[0mup\u001b[0m \u001b[1;33m=\u001b[0m \u001b[0mdelta\u001b[0m\u001b[1;33m.\u001b[0m\u001b[0mclip\u001b[0m\u001b[1;33m(\u001b[0m\u001b[0mlower\u001b[0m\u001b[1;33m=\u001b[0m\u001b[1;36m0\u001b[0m\u001b[1;33m)\u001b[0m\u001b[1;33m\u001b[0m\u001b[1;33m\u001b[0m\u001b[0m\n",
      "\u001b[1;31mTypeError\u001b[0m: 'generator' object is not subscriptable"
     ]
    }
   ],
   "source": [
    "list_files = (glob.iglob(\"SMA_Analysis/Stocks/*.csv\"))\n",
    "\n",
    "for item in list_files:\n",
    "    ticker = list_files[\"Close\"]\n",
    "    delta = ticker['Close'].diff()\n",
    "    up = delta.clip(lower=0)\n",
    "    down = -1*delta.clip(upper=0)\n",
    "    ema_up = up.ewm(com=13, adjust=False).mean()\n",
    "    ema_down = down.ewm(com=13, adjust=False).mean()\n",
    "    rs = ema_up/ema_down\n",
    "\n",
    "    ticker['RSI'] = 100 - (100/(1 + rs))\n",
    "    print(item)\n",
    "# # Skip first 14 days to have real values\n",
    "list_files"
   ]
  },
  {
   "cell_type": "code",
   "execution_count": null,
   "metadata": {},
   "outputs": [],
   "source": [
    "fig, (ax1, ax2) = plt.subplots(2)\n",
    "ax1.get_xaxis().set_visible(False)\n",
    "fig.suptitle('ABBV')\n",
    "\n",
    "ticker['Close'].plot(ax=ax1)\n",
    "ax1.set_ylabel('Price ($)')\n",
    "ticker['RSI'].plot(ax=ax2)\n",
    "ax2.set_ylim(0,100)\n",
    "ax2.axhline(30, color='r', linestyle='--')\n",
    "ax2.axhline(70, color='r', linestyle='--')\n",
    "ax2.set_ylabel('RSI')\n",
    "\n",
    "plt.show()"
   ]
  },
  {
   "cell_type": "code",
   "execution_count": 19,
   "metadata": {},
   "outputs": [],
   "source": [
    "ticker = pdr.get_data_yahoo(\"ABT\", dt.datetime(2020,1,1), dt.datetime.now())\n",
    "\n",
    "delta = ticker['Close'].diff()\n",
    "up = delta.clip(lower=0)\n",
    "down = -1*delta.clip(upper=0)\n",
    "ema_up = up.ewm(com=13, adjust=False).mean()\n",
    "ema_down = down.ewm(com=13, adjust=False).mean()\n",
    "rs = ema_up/ema_down\n",
    "\n",
    "ticker['RSI'] = 100 - (100/(1 + rs))\n",
    "\n",
    "# Skip first 14 days to have real values\n",
    "ticker = ticker.iloc[14:]"
   ]
  },
  {
   "cell_type": "code",
   "execution_count": 20,
   "metadata": {},
   "outputs": [
    {
     "data": {
      "image/png": "[encoded data removed]",
      "text/plain": [
       "<Figure size 432x288 with 2 Axes>"
      ]
     },
     "metadata": {
      "needs_background": "light"
     },
     "output_type": "display_data"
    }
   ],
   "source": [
    "fig, (ax1, ax2) = plt.subplots(2)\n",
    "ax1.get_xaxis().set_visible(False)\n",
    "fig.suptitle('ABT')\n",
    "\n",
    "ticker['Close'].plot(ax=ax1)\n",
    "ax1.set_ylabel('Price ($)')\n",
    "ticker['RSI'].plot(ax=ax2)\n",
    "ax2.set_ylim(0,100)\n",
    "ax2.axhline(30, color='r', linestyle='--')\n",
    "ax2.axhline(70, color='r', linestyle='--')\n",
    "ax2.set_ylabel('RSI')\n",
    "\n",
    "plt.show()"
   ]
  },
  {
   "cell_type": "code",
   "execution_count": null,
   "metadata": {},
   "outputs": [],
   "source": []
  }
 ],
 "metadata": {
  "kernelspec": {
   "display_name": "Python 3",
   "language": "python",
   "name": "python3"
  },
  "language_info": {
   "codemirror_mode": {
    "name": "ipython",
    "version": 3
   },
   "file_extension": ".py",
   "mimetype": "text/x-python",
   "name": "python",
   "nbconvert_exporter": "python",
   "pygments_lexer": "ipython3",
   "version": "3.7.7"
  }
 },
 "nbformat": 4,
 "nbformat_minor": 4
}
